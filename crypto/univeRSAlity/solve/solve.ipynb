{
 "cells": [
  {
   "cell_type": "markdown",
   "metadata": {},
   "source": [
    "# Solution for UniveRSAlity\n",
    "\n",
    "_There was no particular inspiration for this challenge -- I just wanted a -lity word with the letters RSA in it, and so  UniveRSAlity was born which clearly meant I had to do something with universal constants._"
   ]
  },
  {
   "cell_type": "code",
   "execution_count": 1,
   "metadata": {},
   "outputs": [],
   "source": [
    "from pwn import *\n",
    "from Crypto.Util.number import bytes_to_long\n",
    "from sympy.ntheory import discrete_log, isprime\n",
    "from sympy.ntheory.factor_ import smoothness\n",
    "from sympy.ntheory.modular import crt"
   ]
  },
  {
   "cell_type": "markdown",
   "metadata": {},
   "source": [
    "This is a typical application of the Pohlig-Hellman algorithm. The idea is to find sufficiently smooth primes $p$ and $q$ so that we can quickly solve the discrete log problem. According to the Canfield-Erdös-Pomerance Theorem, 1 in 256 numbers under $2^{128}$ will be $2^{32}$-smooth, so we can randomly generate random numbers until we get one that satisfies our requirements.\n",
    "\n",
    "For extra elegance, we look for primes that have the same digits as $\\pi$ and $e$ in all but the last 5 digits, and sort these by smoothness. The density of primes is roughly $\\frac{1}{\\log\\left(2^{128}\\right)}$ in this interval, so we can expect $\\frac{10^5}{256\\log\\left(2^{128}\\right)} \\approx 4.4$ candidates for each prime.\n",
    "\n",
    "We really only need to find one such pair of primes, but it's useful to have more candidates anyway, just in case some pairs of $(p, q)$ don't have a discrete log for our particular ciphertext."
   ]
  },
  {
   "cell_type": "code",
   "execution_count": 2,
   "metadata": {},
   "outputs": [],
   "source": [
    "def get_smooth_values_in_interval(start, len):\n",
    "    from tqdm import trange\n",
    "    result = []\n",
    "    for n in trange(start, start + len):\n",
    "        if isprime(n):\n",
    "            s = smoothness(n-1)[0]\n",
    "            if s < 2**32:\n",
    "                result.append((s, n))\n",
    "    return sorted(result)"
   ]
  },
  {
   "cell_type": "code",
   "execution_count": 3,
   "metadata": {},
   "outputs": [
    {
     "name": "stderr",
     "output_type": "stream",
     "text": [
      "100%|██████████| 100000/100000 [25:15<00:00, 66.00it/s] \n",
      "100%|██████████| 100000/100000 [21:38<00:00, 77.04it/s] \n"
     ]
    }
   ],
   "source": [
    "SMOOTH_PI = get_smooth_values_in_interval(314159265358979323846264338327950200000, 10**5)\n",
    "SMOOTH_E  = get_smooth_values_in_interval(271828182845904523536028747135266200000, 10**5)"
   ]
  },
  {
   "cell_type": "markdown",
   "metadata": {},
   "source": [
    "Took us quite a while to get through the intervals, but fortunately it's a one-time procedure. We can see from the next segment of code that we have 4 candidates for $p$ and 6 candidates for $q$."
   ]
  },
  {
   "cell_type": "code",
   "execution_count": 4,
   "metadata": {
    "scrolled": true
   },
   "outputs": [
    {
     "data": {
      "text/plain": [
       "([(34494743, 314159265358979323846264338327950200873),\n",
       "  (71743787, 314159265358979323846264338327950277143),\n",
       "  (932051051, 314159265358979323846264338327950248901),\n",
       "  (2067633571, 314159265358979323846264338327950200481)],\n",
       " [(52824803, 271828182845904523536028747135266272641),\n",
       "  (269793047, 271828182845904523536028747135266263831),\n",
       "  (289913639, 271828182845904523536028747135266245663),\n",
       "  (322842217, 271828182845904523536028747135266282137),\n",
       "  (922399679, 271828182845904523536028747135266289711),\n",
       "  (2914586413, 271828182845904523536028747135266225409)])"
      ]
     },
     "execution_count": 4,
     "metadata": {},
     "output_type": "execute_result"
    }
   ],
   "source": [
    "SMOOTH_PI, SMOOTH_E"
   ]
  },
  {
   "cell_type": "markdown",
   "metadata": {},
   "source": [
    "Now, the last remaining ingredient of the challenge is to make `'flag'` appear in the JSON, which can be done by making it the key of a single-digit integer. The parameters are constructed so that the plaintext message must be no larger than 32 bytes. Since the token has length 11, this gives us just enough space to fit a single-value integer for `flag`, as in:\n",
    "\n",
    "```\n",
    "{\"token\":\"###########\",\"flag\":#}\n",
    "0        1         2         3\n",
    "12345678901234567890123456789012\n",
    "```\n",
    "\n",
    "Incidentally, this also allows us to increase our universe of possible plaintext messages by 10x."
   ]
  },
  {
   "cell_type": "code",
   "execution_count": 5,
   "metadata": {},
   "outputs": [],
   "source": [
    "def get_answers(token):\n",
    "    m1 = bytes_to_long(f'{{\"token\": \"{token}\"}}'.encode())\n",
    "    for i in range(10):\n",
    "        m2 = bytes_to_long(f'{{\"token\":\"{token}\",\"flag\":{i}}}'.encode())\n",
    "        for _, p in SMOOTH_PI:\n",
    "            for _, q in SMOOTH_E:\n",
    "                c = pow(m1, 65537, p * q)\n",
    "                try:\n",
    "                    d = crt([p-1,q-1],[discrete_log(p,m2,c),discrete_log(q,m2,c)])[0]\n",
    "                    yield (p, q, d)\n",
    "                except (ValueError,TypeError):\n",
    "                    pass"
   ]
  },
  {
   "cell_type": "markdown",
   "metadata": {},
   "source": [
    "Essentially, we've written `get_answers()` as a function that can output all possible (p,q,d) tuples in our search space, but we really only need one such tuple for our exploit. Here's the final exploit:"
   ]
  },
  {
   "cell_type": "code",
   "execution_count": 6,
   "metadata": {},
   "outputs": [
    {
     "name": "stdout",
     "output_type": "stream",
     "text": [
      "[x] Opening connection to fun.chall.seetf.sg on port 30002\n",
      "[x] Opening connection to fun.chall.seetf.sg on port 30002: Trying 34.131.197.225\n",
      "[+] Opening connection to fun.chall.seetf.sg on port 30002: Done\n",
      "The token is \"EyNuA9EN4vg\".\n",
      "Using (p,q,d)=(314159265358979323846264338327950200873, 271828182845904523536028747135266263831, 20050771741598258276360761461642940690676782474875218942468459772177709155161)\n",
      "b'SEE{pohlig-hellman_easy_as_pie_db01d3f24beda43e}'\n",
      "[*] Closed connection to fun.chall.seetf.sg port 30002\n"
     ]
    }
   ],
   "source": [
    "with remote('fun.chall.seetf.sg', 30002) as sh:\n",
    "    sh.recvuntil(b'\"')\n",
    "    token = sh.recvuntil(b'\"', True).decode()\n",
    "    print(f'The token is \"{token}\".')\n",
    "\n",
    "    ans = next(get_answers(token))\n",
    "    print(f'Using (p,q,d)={ans}')\n",
    "\n",
    "    sh.sendlines(str(a).encode() for a in ans)\n",
    "    sh.recvuntil(b'passed!\\n')\n",
    "    print(sh.recvline(False))"
   ]
  }
 ],
 "metadata": {
  "kernelspec": {
   "display_name": "Python 3 (ipykernel)",
   "language": "python",
   "name": "python3"
  },
  "language_info": {
   "codemirror_mode": {
    "name": "ipython",
    "version": 3
   },
   "file_extension": ".py",
   "mimetype": "text/x-python",
   "name": "python",
   "nbconvert_exporter": "python",
   "pygments_lexer": "ipython3",
   "version": "3.10.4"
  }
 },
 "nbformat": 4,
 "nbformat_minor": 4
}
