{
 "cells": [
  {
   "cell_type": "markdown",
   "metadata": {},
   "source": [
    "# Solution for Probability\n",
    "\n",
    "_This challenge was inspired by an actual recruitment challenge, where you program a bot to play continuous blackjack against other bots. I've always wondered if it used the python `random` class, so this challenge is a natural result of that train of thought, plus the question \"how big can I win?\". Since it also requires knowledge of probability and dynamic programming, I had intended this to be the hardest challenge in the category, so was pleasantly surprised by the number of solves._"
   ]
  },
  {
   "cell_type": "code",
   "execution_count": 1,
   "metadata": {},
   "outputs": [],
   "source": [
    "from pwn import *\n",
    "from z3 import *\n",
    "import random"
   ]
  },
  {
   "cell_type": "markdown",
   "metadata": {},
   "source": [
    "We use z3 to solve the MT19937 state for us. Given 624 consecutive outputs of `random.random()`, we can predict all future outputs. See for example, the [symbolic mersenne cracker](https://github.com/icemonster/symbolic_mersenne_cracker/), but we will use a faster but more concise implementation here:"
   ]
  },
  {
   "cell_type": "code",
   "execution_count": 2,
   "metadata": {},
   "outputs": [],
   "source": [
    "def mtcrack_floats(arr):\n",
    "    MT = [BitVec(f'm{i}', 32) for i in range(624)]\n",
    "    s = Solver()\n",
    "    \n",
    "    def cache(x): # for some reason, this makes it faster in certain places\n",
    "        tmp = Const(f'c{len(s.assertions())}', x.sort())\n",
    "        s.add(tmp == x)\n",
    "        return tmp\n",
    "    \n",
    "    def tamper(y):\n",
    "        y ^= LShR(y, 11)\n",
    "        y = cache(y ^ (y << 7) & 0x9D2C5680)\n",
    "        y ^= cache((y << 15) & 0xEFC60000)\n",
    "        return y ^ LShR(y, 18)\n",
    "        \n",
    "    def getnext():\n",
    "        x = Concat(Extract(31, 31, MT[0]), Extract(30, 0, MT[1]))\n",
    "        y = If(x & 1 == 0, BitVecVal(0, 32), 0x9908B0DF)\n",
    "        MT.append(MT[397] ^ LShR(x, 1) ^ y)\n",
    "        return tamper(MT.pop(0))\n",
    "        \n",
    "    def getrandbits(n):\n",
    "        return Extract(31, 32 - n, getnext())\n",
    "        \n",
    "    s.add([Concat(getrandbits(27), getrandbits(26)) == n * 2**53 for n in arr])\n",
    "    assert(s.check() == sat)\n",
    "    state = [s.model().eval(x).as_long() for x in MT]\n",
    "    \n",
    "    r = random.Random()\n",
    "    r.setstate((3, tuple(state + [0]), None))\n",
    "    return r"
   ]
  },
  {
   "cell_type": "markdown",
   "metadata": {},
   "source": [
    "We are ready to begin! Let's just give names to some of these constants -- we need to win 800 of 1337 games."
   ]
  },
  {
   "cell_type": "code",
   "execution_count": 3,
   "metadata": {},
   "outputs": [
    {
     "name": "stdout",
     "output_type": "stream",
     "text": [
      "[x] Opening connection to fun.chall.seetf.sg on port 30001\n",
      "[x] Opening connection to fun.chall.seetf.sg on port 30001: Trying 34.131.197.225\n",
      "[+] Opening connection to fun.chall.seetf.sg on port 30001: Done\n"
     ]
    }
   ],
   "source": [
    "TOTAL_ROUNDS = 1337\n",
    "WIN_THRESHOLD = 800\n",
    "sh = remote('fun.chall.seetf.sg', 30001)"
   ]
  },
  {
   "cell_type": "markdown",
   "metadata": {},
   "source": [
    "The strategy here is to split the game into two parts.\n",
    "- Part 1 involves getting enough random numbers to get the MT19937 state.\n",
    "- Part 2 uses the known state to play optimally and win as much as possible.\n",
    "\n",
    "## Part 1\n",
    "\n",
    "We know that we need at least 624 floats to crack the state. We could just hit or stand randomly, but this would be quite a waste of these early rounds (800 of 1337 is quite a lot). Using some actual probability (see Appendix below), we can use the strategy of hitting until our sum exceeds 0.5705565, and then standing. This will on average win us 77 of the first 181 rounds, at which point we will have enough floats to get our random state.\n"
   ]
  },
  {
   "cell_type": "code",
   "execution_count": 4,
   "metadata": {},
   "outputs": [
    {
     "name": "stdout",
     "output_type": "stream",
     "text": [
      "I won 84 of the first 183 rounds (45.9%)\n",
      "I need to win 716 of the remaining 1154 rounds (62.0%)\n"
     ]
    }
   ],
   "source": [
    "draws = []\n",
    "def draw():\n",
    "    sh.recvuntil(b'draw a [')\n",
    "    n = float(sh.recvuntil(b']', True))\n",
    "    draws.append(n)\n",
    "    return n\n",
    "\n",
    "r1rounds = 0\n",
    "r1wins = 0\n",
    "\n",
    "while True:\n",
    "    total = draw()\n",
    "    if (len(draws) >= 624):\n",
    "        break\n",
    "\n",
    "    PART1_THRESHOLD = 0.57055652829519647683\n",
    "    while total < PART1_THRESHOLD:\n",
    "        sh.sendline(b'h')\n",
    "        total += draw()\n",
    "       \n",
    "    r1rounds += 1\n",
    "    if total < 1:\n",
    "        sh.sendline(b's')\n",
    "        \n",
    "    # collect dealer's numbers\n",
    "    dealer = [float(n) for n in re.findall(b'\\[(.+)\\]', sh.recvuntil(b'Round'))]\n",
    "    if total < 1 and sum(dealer) >= 1:\n",
    "        r1wins += 1\n",
    "        \n",
    "    draws += dealer\n",
    "\n",
    "r2rounds = TOTAL_ROUNDS - r1rounds\n",
    "print(f'I won {r1wins} of the first {r1rounds} rounds ({r1wins*100/r1rounds:.1f}%)')\n",
    "print(f'I need to win {WIN_THRESHOLD-r1wins} of the remaining {TOTAL_ROUNDS-r1rounds} rounds ({(WIN_THRESHOLD-r1wins)*100/(TOTAL_ROUNDS-r1rounds):.1f}%)')"
   ]
  },
  {
   "cell_type": "code",
   "execution_count": 5,
   "metadata": {},
   "outputs": [
    {
     "name": "stdout",
     "output_type": "stream",
     "text": [
      "MT19937 state cracked successfully.\n"
     ]
    }
   ],
   "source": [
    "r = mtcrack_floats(draws[-624:])\n",
    "print(f'MT19937 state cracked successfully.')"
   ]
  },
  {
   "cell_type": "markdown",
   "metadata": {},
   "source": [
    "## Part 2\n",
    "\n",
    "Ok, so now we know all future outcomes. Let's put a large number of these in an array."
   ]
  },
  {
   "cell_type": "code",
   "execution_count": 6,
   "metadata": {},
   "outputs": [],
   "source": [
    "arr = draws[-1:] + [r.random() for _ in range(10000)]"
   ]
  },
  {
   "cell_type": "markdown",
   "metadata": {},
   "source": [
    "Now, at the beginning of each round we know there's a maximum number of cards you can hit before you go bust. As an example let's say you go bust if you hit three times. Then there are four possible ways to end this round:\n",
    "1. [stand], can look at dealer's cards to see if results in a win or a loss\n",
    "2. [hit,stand], can look at dealer's cards to see if results in a win or a loss\n",
    "3. [hit,hit,stand], can look at dealer's cards to see if results in a win or a loss\n",
    "4. [hit,hit,hit], which is a guaranteed loss\n",
    "\n",
    "The greedy algorithm is to just pick one that results in a win, but this may not be optimal in the long run, as it's possible for example that losing here might allow you win the next 10 rounds in a row.\n",
    "\n",
    "Instead, we can think of this as a graph theory problem where each of those options (four in our example) is an edge to the beginning of the next round, whose weight is either $(1, 0)$ for a win, or $(0, -1)$ for a loss. Then the goal is to determine whether there exists a path which results in a total weight of $(x,y)$ with $x\\geq800$ and $x-y=1337$. We can do this properly by keeping a set of Pareto-optimal scores at each node, but for our implementation we've become lazy and just took the lexicographic maximum at each node."
   ]
  },
  {
   "cell_type": "code",
   "execution_count": 7,
   "metadata": {},
   "outputs": [
    {
     "name": "stdout",
     "output_type": "stream",
     "text": [
      "We can win up to 827 of 1337 rounds.\n"
     ]
    }
   ],
   "source": [
    "# keep taking cards until you exceed n\n",
    "def how_many(n, offset):\n",
    "    total = 0\n",
    "    while total <= n:\n",
    "        total += arr[offset]\n",
    "        offset += 1\n",
    "    return total >= 1, offset\n",
    "\n",
    "def get_edges(offset):\n",
    "    total_so_far = arr[offset]\n",
    "    while total_so_far < 1:\n",
    "        dealer = how_many(total_so_far, offset + 1)\n",
    "        yield (offset, 1), dealer\n",
    "        offset += 1\n",
    "        total_so_far += arr[offset]\n",
    "    yield (offset, 0), (False, offset + 1)\n",
    "    \n",
    "def choose(old, new):\n",
    "    return old if old and (old[0],-old[1]) >= (new[0],-new[1]) else new\n",
    "\n",
    "leaf = None\n",
    "dic = { 0: (r1wins, r1rounds, (b'', None)) }\n",
    "while dic:\n",
    "    i = min(dic.keys())\n",
    "    wins, rounds, parent = dic.pop(i)\n",
    "    for code, (win, dst) in get_edges(i):\n",
    "        code_bin = b'\\n' * (code[0] - i) + b's\\n' * code[1]\n",
    "        next_state = (wins + win, rounds + 1, (code_bin, parent))\n",
    "        if rounds + 1 == TOTAL_ROUNDS:\n",
    "            leaf = choose(leaf, next_state)\n",
    "        else:\n",
    "            dic[dst] = choose(dic.get(dst), next_state)\n",
    "    \n",
    "print(f'We can win up to {leaf[0]} of 1337 rounds.')\n",
    "assert leaf[0] >= WIN_THRESHOLD, 'Try again.'"
   ]
  },
  {
   "cell_type": "markdown",
   "metadata": {},
   "source": [
    "Overall, there's a more than 80% chance that everything worked out fine the first time and we've won at least 800 rounds. (If not, then we just rerun the script from the start.) Then we can just trace the path backwards to figure out exactly what your sequence of hits and stands should be."
   ]
  },
  {
   "cell_type": "code",
   "execution_count": 8,
   "metadata": {},
   "outputs": [],
   "source": [
    "def get_codes():\n",
    "    code, parent = leaf[2]\n",
    "    while parent:\n",
    "        yield code\n",
    "        code, parent = parent\n",
    "\n",
    "sh.send(b''.join(c for c in list(get_codes())[::-1]))"
   ]
  },
  {
   "cell_type": "markdown",
   "metadata": {},
   "source": [
    "All that's left to do then is to read out the flag!"
   ]
  },
  {
   "cell_type": "code",
   "execution_count": 9,
   "metadata": {},
   "outputs": [
    {
     "name": "stdout",
     "output_type": "stream",
     "text": [
      "b'SEE{1337_card_counting_24ca335ed1cabbcf}'\n",
      "[*] Closed connection to fun.chall.seetf.sg port 30001\n"
     ]
    }
   ],
   "source": [
    "sh.recvuntil(b'flag: ')\n",
    "print(sh.recvline(False))\n",
    "sh.close()"
   ]
  },
  {
   "cell_type": "markdown",
   "metadata": {},
   "source": [
    "---\n",
    "---\n",
    "---\n",
    "\n",
    "## <a name=\"appendix\"></a>Appendix\n",
    "\n",
    "Let $f(x,y)$ be the probability that you land in the interval $[x,x+y]\\subseteq[0,1]$. Then\n",
    "\n",
    "$$f(x,y) = \\int_0^x f(x-t,y)\\,dt+y,$$\n",
    "\n",
    "and solving the ODE we get $f(x,y)=f(0,y)e^x$. Plugging in the boundary condition $f(0,y)=y$ then gives $f(x,y) = ye^x$.\n",
    "\n",
    "Now let $s(x)$ be the probability that you win if you stand at a current total of $x$. This requires the dealer to not land in $[x,1]$, i.e.\n",
    "\n",
    "$$s(x) = 1 - f(x,1-x) = 1 - (1-x)e^x.$$\n",
    "\n",
    "We seek a threshold $T$, above which it is better to stand than to hit. We can find this by identifying the point where hitting exactly once makes no difference to the probability of winning. Then\n",
    "\n",
    "$$s(T) = \\int_T^1 s(t)\\,dt,$$\n",
    "\n",
    "or equivalently, $1-(1-T)e^T = (1-T)-e^T(T-2)-e$, which gives us $T\\approx 0.5705565$.\n",
    "\n",
    "**The strategy here is to keep hitting until the total is above roughly 0.57, then stand (or be bust).**\n",
    "\n",
    "---\n",
    "\n",
    "Let $h(x)$ be the probability of winning with the above strategy, given a current total of $x$. Combining the behaviour before and after the threshold gives us\n",
    "\n",
    "$$h(x) = \\int_x^T h(t)\\,dt + \\int_T^1 s(t)\\, dt.$$\n",
    "\n",
    "The final term is simply $s(T)$, and we can again solve the ODE to get $h(x)=h(0)e^{-x}$. Plugging in the boundary condition $h(T)=s(T)$ gives us the probability of winning, i.e. $h(0)=s(T)e^T \\approx 0.4249857$.\n",
    "\n",
    "**Using this strategy gives us a win rate of roughly 42.5%.**\n",
    "\n",
    "---\n",
    "\n",
    "Next, we might be interested in the expected number of cards drawn in a single round using this strategy. Let $c(x)$ be the expected number of cards drawn to get a total of at least $x \\in [0,1]$. Then\n",
    "\n",
    "$$c(x) = 1 + \\int_0^x c(x-t)\\,dt,$$\n",
    "\n",
    "and yet again we get an ODE that simply resolves to $c(x)=e^x$.\n",
    "\n",
    "In particular, we expect to have drawn $c(T)$ cards before the end of our turn. The probability that we go bust here is $s(T)$, so that the dealer does not draw any cards. Otherwise, we have a uniform distribution in $[T,1]$ with density $e^T$. Consequently, the expected number of cards drawn in a single round is\n",
    "\n",
    "$$e^T + \\int_T^1 e^T c(x)\\,dx = e^T(1+e-e^T) \\approx 3.448325.$$\n",
    "\n",
    "Now, to crack the state of MT19937 we need to have drawn 624 cards, and since we get one for free at the beginning of a round we only need to have played 623 cards worth of full rounds. Using the numbers above, this roughly means that we will expect to have completed 180.7 full rounds and won 76.78 of those. (We can also compute the variances and stuff, but let's not go there.)\n",
    "\n",
    "**We expect part one to take 181 rounds, with us winning about 77 rounds.**\n",
    "\n",
    "Good stuff! This means that on average, we only need to win 723 of our remaining 1156 rounds, for a whopping 62.54% win rate. This is something like 14 standard deviations away (using the 0.57 strategy), so we are definitely not hoping to simply get lucky for part 2, and will need a different strategy."
   ]
  }
 ],
 "metadata": {
  "kernelspec": {
   "display_name": "Python 3 (ipykernel)",
   "language": "python",
   "name": "python3"
  },
  "language_info": {
   "codemirror_mode": {
    "name": "ipython",
    "version": 3
   },
   "file_extension": ".py",
   "mimetype": "text/x-python",
   "name": "python",
   "nbconvert_exporter": "python",
   "pygments_lexer": "ipython3",
   "version": "3.10.4"
  }
 },
 "nbformat": 4,
 "nbformat_minor": 4
}
