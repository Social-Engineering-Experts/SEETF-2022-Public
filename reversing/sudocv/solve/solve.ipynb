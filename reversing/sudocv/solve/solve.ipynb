{
 "cells": [
  {
   "cell_type": "markdown",
   "metadata": {},
   "source": [
    "# Solution for SudoCV\n",
    "\n",
    "_This challenge was based on a puzzlehunt-style puzzle I wrote with the title \"Takeshi's Castle\" and answer \"The Cake is a Lie\". I realised the sudoku had all the letters to make ETHICAL HACKS, so somehow or other this puzzle was born._"
   ]
  },
  {
   "cell_type": "code",
   "execution_count": 1,
   "metadata": {},
   "outputs": [],
   "source": [
    "from z3 import *\n",
    "from pwn import *"
   ]
  },
  {
   "cell_type": "markdown",
   "metadata": {},
   "source": [
    "This is a thinly veiled sudoku puzzle that also doubles as a word search. For each phrase in the checklist, you get one point if the grid contains every word in that phrase (in any direction). The source code can be found in [sudocv.c](sudocv.c), but might be slightly obfuscated because it is compiled with `-O3`.\n",
    "\n",
    "Anyway, let's start off by getting the set of 9-letters that are needed for the sudoku from the list of phrases."
   ]
  },
  {
   "cell_type": "code",
   "execution_count": 2,
   "metadata": {},
   "outputs": [
    {
     "data": {
      "text/plain": [
       "'icseltkah'"
      ]
     },
     "execution_count": 2,
     "metadata": {},
     "output_type": "execute_result"
    }
   ],
   "source": [
    "phrases = ['attacks lattices', 'has stealth tactics', 'has the latest tech', 'hits the call stack', 'is leet', 'leaks assets', 'likes haskell', 'likes kali', 'sets a cheat sheet', 'takes shell access']\n",
    "letterbank = ''.join({c for phrase in phrases for word in phrase.split() for c in word})\n",
    "letterbank"
   ]
  },
  {
   "cell_type": "markdown",
   "metadata": {},
   "source": [
    "Next, we create a dictionary of all tuples of positions in the grid that correspond to a valid wordsearch-style word."
   ]
  },
  {
   "cell_type": "code",
   "execution_count": 3,
   "metadata": {},
   "outputs": [],
   "source": [
    "dic = {i:set() for i in range(10)}\n",
    "for start in range(81):\n",
    "    for dx in [-1,0,1]:\n",
    "        for dy in [-1,0,1]:\n",
    "            if dx or dy:\n",
    "                arr = []\n",
    "                for n in range(9):\n",
    "                    if 0 <= start%9 + dx*n < 9 and 0 <= start//9 + dy * n < 9:\n",
    "                        arr.append(start + (dy*9+dx)*n)\n",
    "                        dic[len(arr)].add(tuple(arr))"
   ]
  },
  {
   "cell_type": "markdown",
   "metadata": {},
   "source": [
    "Now we just have to solve the sudoku. We will use z3 to solve this, denoting each element as an integer between 0 and 8 inclusive (for easier indexing)."
   ]
  },
  {
   "cell_type": "code",
   "execution_count": 4,
   "metadata": {
    "scrolled": true
   },
   "outputs": [
    {
     "name": "stdout",
     "output_type": "stream",
     "text": [
      "ekslichtatclhkaesiiahtseklcctiklhaeshseiatcklalkcestihleashkictshtecilakkicatlshe\n",
      "athcilskeiseakhlctclkesthaiseahlkitclkctaieshhitsecklatcikhsaelkalicethsehsltacik\n",
      "etichalskkcatslehislhiekatclhtkicseaikslaehctcaehtskilhekactilstslekicahaicslhtke\n",
      "ehsltacikkalicethstcikhsaelhitsecklalkctaieshseahlkitcclkesthaiiseakhlctathcilske\n",
      "kicatlsheshtecilakleashkictalkcestihhseiatcklctiklhaesiahtseklctclhkaesiekslichta\n",
      "ekthlsciahacikelstslitcakehlikstheactchealskiaescikthlctakeihlsihelstackkslahcite\n",
      "aicslhtketslekicahhekactilscaehtskilikslaehctlhtkicseaslhiekatckcatslehietichalsk\n",
      "kslahciteihelstackctakeihlsaescikthltchealskilikstheacslitcakehhacikelstekthlscia\n"
     ]
    }
   ],
   "source": [
    "s = Solver()\n",
    "iv = IntVector('i', 81)\n",
    "s.add([And(i >= 0, i < 9) for i in iv])\n",
    "\n",
    "for i in range(9):\n",
    "    s.add(Distinct([iv[n] for n in range(81) if n//9 == i])) # distinct elements in rows\n",
    "    s.add(Distinct([iv[n] for n in range(81) if n%9 == i])) # distinct elements in columns\n",
    "    s.add(Distinct([iv[n] for n in range(81) if n//27*3+n%9//3 == i])) # distinct elements in group\n",
    "    \n",
    "def has_word(w):\n",
    "    ns = [letterbank.index(c) for c in w]\n",
    "    return Or([And([iv[p]==n for (p,n) in zip(ps, ns)]) for ps in dic[len(w)]])\n",
    "\n",
    "def has_phrase(p):\n",
    "    return And([has_word(w) for w in p.split()])\n",
    "\n",
    "score = sum([If(has_phrase(p), 1, 0) for p in phrases])\n",
    "s.add(score >= 5)\n",
    "\n",
    "while s.check() == sat:\n",
    "    sudocv = ''.join(letterbank[s.model()[i].as_long()] for i in iv)\n",
    "    print(sudocv)\n",
    "    s.add(Or([i != s.model()[i] for i in iv]))"
   ]
  },
  {
   "cell_type": "markdown",
   "metadata": {},
   "source": [
    "Great success! It turns out that there are exactly possible 8 solutions. We really only need (any) one of them, but it probably doesn't hurt to be exhaustive. In this case, they are all actually just rotations and reflections of a single unique solution. We draw one such grid here, with word search matches.\n",
    "\n",
    "![grid](sudocvgrid.png)\n",
    "\n",
    "And that's all there is to it. We can pick any of the eight solutions and copy and paste it into the executable (they all give the same flag), but for demonstrative purposes we use pwntools here."
   ]
  },
  {
   "cell_type": "code",
   "execution_count": 5,
   "metadata": {},
   "outputs": [
    {
     "name": "stdout",
     "output_type": "stream",
     "text": [
      "[x] Starting local process './sudocv'\n",
      "[+] Starting local process './sudocv': pid 2935\n",
      "[x] Receiving all data\n",
      "[x] Receiving all data: 0B\n",
      "[*] Process './sudocv' stopped with exit code 0 (pid 2935)\n",
      "[x] Receiving all data: 371B\n",
      "[+] Receiving all data: Done (371B)\n",
      "Please submit your (sudo)cv:\n",
      "Scanning against the ethical hacks checklist:\n",
      "[ ] attacks lattices\n",
      "[ ] has stealth tactics\n",
      "[X] has the latest tech\n",
      "[X] hits the call stack\n",
      "[X] is leet\n",
      "[ ] leaks assets\n",
      "[X] likes haskell\n",
      "[X] likes kali\n",
      "[ ] sets a cheat sheet\n",
      "[ ] takes shell access\n",
      "\n",
      "Candidate score: 5/10.\n",
      "You PASS! Here is your flag:\n",
      "SEE{the_cake_is_a_lie_at_takeshis_castle}\n",
      "\n"
     ]
    }
   ],
   "source": [
    "with process('./sudocv') as sh:\n",
    "    sh.sendline(sudocv.encode())\n",
    "    print(sh.recvall().decode())"
   ]
  }
 ],
 "metadata": {
  "kernelspec": {
   "display_name": "Python 3 (ipykernel)",
   "language": "python",
   "name": "python3"
  },
  "language_info": {
   "codemirror_mode": {
    "name": "ipython",
    "version": 3
   },
   "file_extension": ".py",
   "mimetype": "text/x-python",
   "name": "python",
   "nbconvert_exporter": "python",
   "pygments_lexer": "ipython3",
   "version": "3.10.4"
  }
 },
 "nbformat": 4,
 "nbformat_minor": 4
}
